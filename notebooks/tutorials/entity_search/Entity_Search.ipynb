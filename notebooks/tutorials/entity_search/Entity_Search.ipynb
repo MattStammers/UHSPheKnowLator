{
 "cells": [
  {
   "cell_type": "markdown",
   "metadata": {
    "collapsed": true
   },
   "source": [
    "<p align=\"center\">\n",
    "  <img width='325' src=\"https://user-images.githubusercontent.com/8030363/161553611-51a40cf9-e348-4eff-91bd-ab03eac41dd3.png\" />\n",
    "</p>\n",
    "\n",
    "***\n",
    "***\n",
    "\n",
    "# Tutorial: Knowledge Graph Entity Search\n",
    "\n",
    "***\n",
    "\n",
    "**Author:** [TJCallahan](http://tiffanycallahan.com/)  \n",
    "**GitHub Repository:** [PheKnowLator](https://github.com/callahantiff/PheKnowLator/wiki)  \n",
    "**Wiki Page:** [OWL-NETS-2.0](https://github.com/callahantiff/PheKnowLator/wiki/OWL-NETS-2.0)  \n",
    "**Tutorial Slides:** [PheKnowLator_Tutorial_EntitySearch](https://docs.google.com/presentation/d/19oc41CFILLlf0HjJfFJlUER-4wt1YV-BItkqWbI4NwU/edit?usp=sharing)   \n",
    "**Release:** **[v3.0.0](https://github.com/callahantiff/PheKnowLator/wiki/v3.0.0)**  \n",
    "  \n",
    "<br> \n",
    "\n",
    "## Purpose  \n",
    "The goal of this notebook is to explore different ways to examine relationships between different types of entities in a PheKnowLator knowledge graph. There are three different types of relationships that we will explore:  \n",
    "  1. **Positive Relationships:** An existing, well-known, and direct relationship between two entities. In this notebook, we will examine:  \n",
    "    - `lisinopril dihydrate` ([CHEBI_6503](http://purl.obolibrary.org/obo/CHEBI_6503)) and `myocardial infarction` ([MONDO_0005068](http://purl.obolibrary.org/obo/MONDO_0005068)) \n",
    "  \n",
    "  2. **Negative Relationships:** Neither a direct nor suspected relationship between two entities. In this notebook, we will examine:   \n",
    "    - `lisinopril dihydrate` ([CHEBI_6503](http://purl.obolibrary.org/obo/CHEBI_6503)) and `contact dermatitis` ([MONDO_0005480](http://purl.obolibrary.org/obo/MONDO_0005480)) \n",
    "\n",
    "\n",
    "### Notebook Organization  \n",
    "- [Set-Up Environment](#set-environment)  \n",
    "- [Knowledge Graph Data](#kg-data)  \n",
    "- [Knowledge-based Characterization](#kg-characterization)  \n",
    "    - [Node-Level](#node-level)  \n",
    "    - [Path-Level](#path-level) \n",
    "\n",
    "***\n",
    "***\n",
    "\n",
    "<br>"
   ]
  },
  {
   "cell_type": "markdown",
   "metadata": {},
   "source": [
    "<br>\n",
    "\n",
    "***  \n",
    "## Set-Up Environment  <a class=\"anchor\" id=\"set-environment\"></a> \n",
    "***  \n",
    "___\n",
    "  "
   ]
  },
  {
   "cell_type": "code",
   "execution_count": null,
   "metadata": {},
   "outputs": [],
   "source": [
    "# # uncomment and run to install any required modules from notebooks/requirements.txt\n",
    "# import sys\n",
    "# !{sys.executable} -m pip install -r ../../notebooks/requirements.txt"
   ]
  },
  {
   "cell_type": "code",
   "execution_count": null,
   "metadata": {},
   "outputs": [],
   "source": [
    "# run only if running a local version (i.e., forked from GitHub) of pkt_kg\n",
    "import sys\n",
    "sys.path.append('../../../')"
   ]
  },
  {
   "cell_type": "markdown",
   "metadata": {},
   "source": [
    "⚠️ **Install graphviz** ⚠️  \n",
    "graphviz can be a tricky library to install, which is why it is not automatically handled for the user via `notebooks/requirements.txt`. If you want to install this, I recommend using the last comment in the following [StackOverflow](https://stackoverflow.com/questions/69377104/unable-to-execute-dot-command-after-installation-of-graphviz-there-is-no-layou) post, but make sure you understand what it is doing before running any of the code. The only thing that this impacts is the rendering of network visualizations. Simply skip the visualization code chunks if you are unable to install `graphviz`."
   ]
  },
  {
   "cell_type": "code",
   "execution_count": null,
   "metadata": {},
   "outputs": [],
   "source": [
    "# import needed libraries\n",
    "import glob\n",
    "import json\n",
    "import networkx as nx\n",
    "import os\n",
    "import pandas as pd\n",
    "import pickle\n",
    "import random\n",
    "import re\n",
    "\n",
    "from entity_search import *\n",
    "from rdflib import Graph, Namespace, URIRef, BNode, Literal\n",
    "from rdflib.namespace import RDFS\n",
    "from tqdm.notebook import tqdm\n",
    "from typing import Callable, Dict, List, Optional, Union\n",
    "\n",
    "# temp work around to avoid logging error\n",
    "try: from pkt_kg.utils import *\n",
    "except FileNotFoundError: from pkt_kg.utils import *\n",
    "\n",
    "# create namespace for OBO ontologies\n",
    "obo = Namespace('http://purl.obolibrary.org/obo/')"
   ]
  },
  {
   "cell_type": "markdown",
   "metadata": {},
   "source": [
    "<br>\n",
    "\n",
    "***\n",
    "\n",
    "## Knowledge Graph Data  <a class=\"anchor\" id=\"kg-data\"></a>\n",
    "***\n",
    "\n",
    "#### *How to access PheKnowLator Data*\n",
    "___\n",
    "\n",
    "This notebook was built using a `v3.0.2` OWL-NETS-abstracted subclass-based build with inverse relations, which is publicly available and can be downloaded using the following links:  \n",
    "- [PheKnowLator_v3.0.2_full_subclass_inverseRelations_OWLNETS_NetworkxMultiDiGraph.gpickle](https://storage.googleapis.com/pheknowlator/current_build/knowledge_graphs/subclass_builds/inverse_relations/owlnets/PheKnowLator_v3.0.2_full_subclass_inverseRelations_OWLNETS_NetworkxMultiDiGraph.gpickle)  \n",
    "- [PheKnowLator_v3.0.2_full_subclass_inverseRelations_OWLNETS_NodeLabels.txt](https://storage.googleapis.com/pheknowlator/current_build/knowledge_graphs/subclass_builds/inverse_relations/owlnets/PheKnowLator_v3.0.2_full_subclass_inverseRelations_OWLNETS_NodeLabels.txt)  \n"
   ]
  },
  {
   "cell_type": "markdown",
   "metadata": {},
   "source": [
    "### Download Data  \n",
    "***\n",
    "\n",
    "The knowledge graph data is publicly available and downloaded from the PheKnowLator project's Google Cloud Storage Bucket: https://console.cloud.google.com/storage/browser/pheknowlator/. Data will be downloaded to the `tutorials/entity_search/data` directory."
   ]
  },
  {
   "cell_type": "code",
   "execution_count": null,
   "metadata": {},
   "outputs": [],
   "source": [
    "# notebook will create a temporary directory and will download data to it\n",
    "write_location = 'data/'\n",
    "if not os.path.exists(write_location): os.mkdir(write_location)"
   ]
  },
  {
   "cell_type": "code",
   "execution_count": null,
   "metadata": {},
   "outputs": [],
   "source": [
    "# download data to the data directory\n",
    "data_urls = [\n",
    "    'https://storage.googleapis.com/pheknowlator/current_build/knowledge_graphs/subclass_builds/relations_only/owlnets/PheKnowLator_v3.0.2_full_subclass_relationsOnly_OWLNETS_NetworkxMultiDiGraph.gpickle',\n",
    "    'https://storage.googleapis.com/pheknowlator/current_build/knowledge_graphs/subclass_builds/relations_only/owlnets/PheKnowLator_v3.0.2_full_subclass_relationsOnly_OWLNETS_NodeLabels.txt'\n",
    "]\n",
    "\n",
    "for url in data_urls:\n",
    "    file_name = url.split('/')[-1] if 'metadata' not in url else re.sub(r'\\?.*', '', url.split('/')[-1])\n",
    "    if not os.path.exists(write_location + file_name): data_downloader(url, write_location, file_name)\n",
    "        "
   ]
  },
  {
   "cell_type": "markdown",
   "metadata": {},
   "source": [
    "### Loading Data\n",
    "***\n",
    "\n",
    "The knowledge graph will be loaded as a `networkx` MultiDiGraph object and the node labels will be read in and converted to a dictionary to enable easy access to node labels and other relevant metadata."
   ]
  },
  {
   "cell_type": "markdown",
   "metadata": {},
   "source": [
    "#### Knowledge Graph\n",
    "\n",
    "Note that this file is large and can take up to 2 minutes to load on a laptop with 16GB of Ram."
   ]
  },
  {
   "cell_type": "code",
   "execution_count": null,
   "metadata": {},
   "outputs": [],
   "source": [
    "# load the knowledge graph\n",
    "kg = nx.read_gpickle(write_location + data_urls[0].split('/')[-1])\n",
    "print('The knowledge graph contains {} nodes and {} edges'.format(len(kg.nodes()), len(kg.edges())))"
   ]
  },
  {
   "cell_type": "markdown",
   "metadata": {},
   "source": [
    "#### Load Node Metadata"
   ]
  },
  {
   "cell_type": "code",
   "execution_count": null,
   "metadata": {},
   "outputs": [],
   "source": [
    "# read in node metadata\n",
    "data_loc = write_location + data_urls[1].split('/')[-1]\n",
    "node_data = pd.read_csv(data_loc, header=0, sep=r\"\\t\", encoding=\"utf8\", engine='python', quoting=3)\n",
    "node_data['entity_uri'] = node_data['entity_uri'].str.strip('<>')  # remove angle brackets\n",
    "node_data.head()"
   ]
  },
  {
   "cell_type": "code",
   "execution_count": null,
   "metadata": {},
   "outputs": [],
   "source": [
    "# convert node data to dictionary\n",
    "node_data_dict = dict()\n",
    "for idx, row in tqdm(node_data.iterrows(), total=node_data.shape[0]):\n",
    "    node_data_dict[row['entity_uri']] = {\n",
    "        'label': row['label'],\n",
    "        'description': row['description/definition']\n",
    "    }"
   ]
  },
  {
   "cell_type": "markdown",
   "metadata": {},
   "source": [
    "<br>\n",
    "\n",
    "***\n",
    "\n",
    "## Knowledge-based Characterization  <a class=\"anchor\" id=\"kg-characterization\"></a>\n",
    "***\n",
    "____\n",
    "\n",
    "The goal is to use the knowledge graph to explore what we know about specific concepts as well as what we can say about pairs of concepts. Additional details are presented by comparison below:\n",
    "\n",
    "#### [Node-Level](#node-level)\n",
    " - <u>Node Ancestry</u>: Identify all ancestors for each node up to the root.\n",
    " - <u>Node Neighborhood</u>: Returns all nodes reachable from a node of interest via a single directed edge.   \n",
    "\n",
    "\n",
    "#### [Path-Level](#path-level)\n",
    "  - <u>Shortest Path</u>: Returns the single shortest path.  \n",
    "  - <u>All Shortest Paths</u>: Returns the shortest simple path, if there are multiple paths of the same length then they are all returned.\n",
    "\n",
    "---"
   ]
  },
  {
   "cell_type": "markdown",
   "metadata": {},
   "source": [
    "<br>\n",
    "\n",
    "### Node-Level  <a class=\"anchor\" id=\"node-level\"></a>\n",
    "***\n",
    "\n",
    "#### Nodes  \n",
    "- **Drugs**\n",
    "  - [lisinopril dihydrate (`CHEBI_6503`)](#chebi_6503)  \n",
    "- **Outcomes (diseases)**\n",
    "  - [myocardial infarction (`MONDO_0005068`)](#mondo_0005068)  \n",
    "  - [contact dermatitis (`MONDO_0005480`)](#mondo_0005480)    "
   ]
  },
  {
   "cell_type": "markdown",
   "metadata": {},
   "source": [
    "***\n",
    "\n",
    "#### lisinopril dihydrate (`CHEBI_6503`) <a class=\"anchor\" id=\"chebi_6503\"></a>"
   ]
  },
  {
   "cell_type": "code",
   "execution_count": null,
   "metadata": {},
   "outputs": [],
   "source": [
    "node = [obo.CHEBI_6503]\n",
    "degree = str(kg.degree(node[0]))\n",
    "in_edges = str(len(kg.in_edges(node[0])))\n",
    "out_edges = str(len(kg.out_edges(node[0])))\n",
    "print('This node has degree {}, which consists of {} in-edges and {} out-edges'.format(degree, in_edges, out_edges))"
   ]
  },
  {
   "cell_type": "markdown",
   "metadata": {},
   "source": [
    "*Ancestors*"
   ]
  },
  {
   "cell_type": "code",
   "execution_count": null,
   "metadata": {
    "code_folding": []
   },
   "outputs": [],
   "source": [
    "# examine the node's ancestors\n",
    "prefix = 'CHEBI'\n",
    "chebi6503_anc_dict = processes_ancestor_path_list(nx_ancestor_search(kg, node.copy(), prefix))\n",
    "chebi6503_ancestors = format_path_ancestors(chebi6503_anc_dict, node_data_dict)"
   ]
  },
  {
   "cell_type": "code",
   "execution_count": null,
   "metadata": {},
   "outputs": [],
   "source": [
    "# visualize hierarchy\n",
    "visualize_ancestor_tree(chebi6503_ancestors)"
   ]
  },
  {
   "cell_type": "code",
   "execution_count": null,
   "metadata": {},
   "outputs": [],
   "source": [
    "# print results -- nodes are ordered descending by seniority (lower numbers indicate closer to root)\n",
    "print('Ancestors of {}\\n'.format(node[0]))\n",
    "for level in range(len(chebi6503_ancestors)):\n",
    "    print('Level: {}'.format(str(level)))\n",
    "    for v in chebi6503_ancestors[::-1][level]:\n",
    "        v_uri = URIRef(v.split('(')[-1].strip(')'))\n",
    "        descs = len([a[1] for b in [[[i, n[0]] for j in [kg.get_edge_data(*(n[0], v_uri)).keys()]\n",
    "                                     for i in j] for n in list(kg.in_edges(v_uri))] for a in b\n",
    "                     if a[0] == RDFS.subClassOf])\n",
    "        uri_strip = re.sub('http://purl.obolibrary.org/obo/', '', v)\n",
    "        print('\\t- {} - class has {} descendants'.format(uri_strip, descs + 1))"
   ]
  },
  {
   "cell_type": "markdown",
   "metadata": {},
   "source": [
    "*Neighborhood*"
   ]
  },
  {
   "cell_type": "code",
   "execution_count": null,
   "metadata": {
    "code_folding": []
   },
   "outputs": [],
   "source": [
    "# examine the node's neigborhood (out-edges)\n",
    "nodes = list(kg.neighbors(node[0]))\n",
    "neighbors = [a for b in [[[i, n] for j in [kg.get_edge_data(*(node[0], n)).keys()]\n",
    "                          for i in j] for n in nodes] for a in b]\n",
    "chebi6503_sorted_neigbors = sorted(neighbors, key=lambda x: (str(x[1]).split('/')[-1], x[0]))\n",
    "\n",
    "print('{} has {} neighbors'.format(str(node[0]).split('/')[-1], degree))"
   ]
  },
  {
   "cell_type": "code",
   "execution_count": null,
   "metadata": {
    "code_folding": []
   },
   "outputs": [],
   "source": [
    "# print node's neigborhood (out-edges)\n",
    "formats_node_information(node, chebi6503_sorted_neigbors, node_data_dict, verbose=False)"
   ]
  },
  {
   "cell_type": "markdown",
   "metadata": {},
   "source": [
    "***\n",
    "***\n",
    "\n",
    "#### myocardial infarction (`MONDO_0005068`) <a class=\"anchor\" id=\"mondo_0005068\"></a>"
   ]
  },
  {
   "cell_type": "code",
   "execution_count": null,
   "metadata": {},
   "outputs": [],
   "source": [
    "node = [obo.MONDO_0005068]\n",
    "degree = str(kg.degree(node[0]))\n",
    "in_edges = str(len(kg.in_edges(node[0])))\n",
    "out_edges = str(len(kg.out_edges(node[0])))\n",
    "print('This node has degree {}, which consists of {} in-edges and {} out-edges'.format(degree, in_edges, out_edges))"
   ]
  },
  {
   "cell_type": "markdown",
   "metadata": {},
   "source": [
    "*Ancestors*"
   ]
  },
  {
   "cell_type": "code",
   "execution_count": null,
   "metadata": {
    "code_folding": []
   },
   "outputs": [],
   "source": [
    "# examine the node's ancestors\n",
    "prefix = 'MONDO'\n",
    "mondo0005068_anc_dict = processes_ancestor_path_list(nx_ancestor_search(kg, node.copy(), prefix))\n",
    "mondo0005068_ancestors = format_path_ancestors(mondo0005068_anc_dict, node_data_dict)"
   ]
  },
  {
   "cell_type": "code",
   "execution_count": null,
   "metadata": {},
   "outputs": [],
   "source": [
    "# visualize hierarchy\n",
    "visualize_ancestor_tree(mondo0005068_ancestors)"
   ]
  },
  {
   "cell_type": "code",
   "execution_count": null,
   "metadata": {},
   "outputs": [],
   "source": [
    "# print results -- nodes are ordered by seniority (higher numbers indicate closer to root)\n",
    "print('Ancestors of {}\\n'.format(node[0]))\n",
    "for level in range(len(mondo0005068_ancestors)):\n",
    "    print('Level: {}'.format(str(level)))\n",
    "    for v in mondo0005068_ancestors[::-1][level]:\n",
    "        v_uri = URIRef(v.split('(')[-1].strip(')'))\n",
    "        descs = len([a[1] for b in [[[i, n[0]] for j in [kg.get_edge_data(*(n[0], v_uri)).keys()]\n",
    "                                     for i in j] for n in list(kg.in_edges(v_uri))] for a in b\n",
    "                     if a[0] == RDFS.subClassOf])\n",
    "        print('\\t- {} - class has {} descendants'.format(re.sub('http://purl.obolibrary.org/obo/', '', v), descs + 1))"
   ]
  },
  {
   "cell_type": "markdown",
   "metadata": {},
   "source": [
    "*Neighborhood*"
   ]
  },
  {
   "cell_type": "code",
   "execution_count": null,
   "metadata": {
    "code_folding": []
   },
   "outputs": [],
   "source": [
    "# examine the node's neigborhood (out-edges)\n",
    "nodes = list(kg.neighbors(node[0]))\n",
    "neighbors = [a for b in [[[i, n] for j in [kg.get_edge_data(*(node[0], n)).keys()]\n",
    "                          for i in j] for n in nodes] for a in b]\n",
    "mondo0005068_sorted_neigbors = sorted(neighbors, key=lambda x: (str(x[1]).split('/')[-1], x[0]))\n",
    "\n",
    "print('{} has {} neighbors'.format(str(node[0]).split('/')[-1], degree))"
   ]
  },
  {
   "cell_type": "code",
   "execution_count": null,
   "metadata": {
    "code_folding": []
   },
   "outputs": [],
   "source": [
    "# print node's neigborhood (out-edges)\n",
    "formats_node_information(node, mondo0005068_sorted_neigbors, node_data_dict, verbose=False)"
   ]
  },
  {
   "cell_type": "markdown",
   "metadata": {},
   "source": [
    "\n",
    "***\n",
    "\n",
    "#### contact dermatitis (`MONDO_0005480`) <a class=\"anchor\" id=\"mondo_0005480\"></a>"
   ]
  },
  {
   "cell_type": "code",
   "execution_count": null,
   "metadata": {},
   "outputs": [],
   "source": [
    "node = [obo.MONDO_0005480]\n",
    "degree = str(kg.degree(node[0]))\n",
    "in_edges = str(len(kg.in_edges(node[0])))\n",
    "out_edges = str(len(kg.out_edges(node[0])))\n",
    "print('This node has degree {}, which consists of {} in-edges and {} out-edges'.format(degree, in_edges, out_edges))"
   ]
  },
  {
   "cell_type": "markdown",
   "metadata": {},
   "source": [
    "*Ancestors*"
   ]
  },
  {
   "cell_type": "code",
   "execution_count": null,
   "metadata": {
    "code_folding": []
   },
   "outputs": [],
   "source": [
    "# examine the node's ancestors\n",
    "prefix = 'MONDO'\n",
    "mondo0005480_anc_dict = processes_ancestor_path_list(nx_ancestor_search(kg, node.copy(), prefix))\n",
    "mondo0005480_ancestors = format_path_ancestors(mondo0005480_anc_dict, node_data_dict)"
   ]
  },
  {
   "cell_type": "code",
   "execution_count": null,
   "metadata": {},
   "outputs": [],
   "source": [
    "# visualize hierarchy\n",
    "visualize_ancestor_tree(mondo0005480_ancestors)"
   ]
  },
  {
   "cell_type": "code",
   "execution_count": null,
   "metadata": {},
   "outputs": [],
   "source": [
    "# print results -- nodes are ordered by seniority (lower numbers indicate closer to root)\n",
    "print('Ancestors of {}\\n'.format(node[0]))\n",
    "for level in range(len(mondo0005480_ancestors)):\n",
    "    print('Level: {}'.format(str(level)))\n",
    "    for v in mondo0005480_ancestors[::-1][level]:\n",
    "        v_uri = URIRef(v.split('(')[-1].strip(')'))\n",
    "        descs = len([a[1] for b in [[[i, n[0]] for j in [kg.get_edge_data(*(n[0], v_uri)).keys()]\n",
    "                                     for i in j] for n in list(kg.in_edges(v_uri))] for a in b\n",
    "                     if a[0] == RDFS.subClassOf])\n",
    "        print('\\t- {} - class has {} descendants'.format(re.sub('http://purl.obolibrary.org/obo/', '', v), descs + 1))"
   ]
  },
  {
   "cell_type": "markdown",
   "metadata": {},
   "source": [
    "*Neighborhood*"
   ]
  },
  {
   "cell_type": "code",
   "execution_count": null,
   "metadata": {
    "code_folding": []
   },
   "outputs": [],
   "source": [
    "# examine the node's neigborhood (out-edges)\n",
    "nodes = list(kg.neighbors(node[0]))\n",
    "neighbors = [a for b in [[[i, n] for j in [kg.get_edge_data(*(node[0], n)).keys()]\n",
    "                          for i in j] for n in nodes] for a in b]\n",
    "mondo0005480_sorted_neigbors = sorted(neighbors, key=lambda x: (str(x[1]).split('/')[-1], x[0]))\n",
    "\n",
    "print('{} has {} neighbors'.format(str(node[0]).split('/')[-1], degree))"
   ]
  },
  {
   "cell_type": "code",
   "execution_count": null,
   "metadata": {
    "code_folding": []
   },
   "outputs": [],
   "source": [
    "# print node's neigborhood (out-edges)\n",
    "formats_node_information(node, mondo0005480_sorted_neigbors, node_data_dict, verbose=False)"
   ]
  },
  {
   "cell_type": "markdown",
   "metadata": {},
   "source": [
    "<br>\n",
    "\n",
    "### Path-Level Characterization  <a class=\"anchor\" id=\"path-level\"></a>\n",
    "\n",
    "***\n",
    "\n",
    "- **Positive Relationship:** [`lisinopril dihydrate` ([CHEBI_6503](http://purl.obolibrary.org/obo/CHEBI_6503)) and `myocardial infarction` ([MONDO_0005068](http://purl.obolibrary.org/obo/MONDO_0005068))](#path1)  \n",
    "   \n",
    "- **Negative Relationship:** [`lisinopril dihydrate` ([CHEBI_6503](http://purl.obolibrary.org/obo/CHEBI_6503)) and `contact dermatitis` ([MONDO_0005480](http://purl.obolibrary.org/obo/MONDO_0005480))](#path2)       \n"
   ]
  },
  {
   "cell_type": "markdown",
   "metadata": {},
   "source": [
    "***\n",
    "\n",
    "#### lisinopril dihydrate (`CHEBI_6503`) and myocardial infarction (`MONDO_0005068`) <a class=\"anchor\" id=\"path1\"></a> "
   ]
  },
  {
   "cell_type": "code",
   "execution_count": null,
   "metadata": {},
   "outputs": [],
   "source": [
    "s = obo.CHEBI_6503; t = obo.MONDO_0005068\n",
    "kg_orientation = kg; ind = 'directed'\n",
    "spl_d = nx.shortest_path_length(kg, source=s, target=t)\n",
    "print('The shortest path length is: {}'.format(str(spl_d)))"
   ]
  },
  {
   "cell_type": "code",
   "execution_count": null,
   "metadata": {},
   "outputs": [],
   "source": [
    "shortest_paths1 = list(nx.all_shortest_paths(kg_orientation, s, t))\n",
    "p_len = nx.shortest_path_length(kg_orientation, source=s, target=t)\n",
    "v = 'is' if len(shortest_paths1) == 1 else 'are'\n",
    "print('There {} {} shortest paths of length {}'.format(v, str(len(shortest_paths1)), str(p_len)))"
   ]
  },
  {
   "cell_type": "code",
   "execution_count": null,
   "metadata": {
    "code_folding": []
   },
   "outputs": [],
   "source": [
    "formats_path_information(kg=kg_orientation,\n",
    "                         paths=shortest_paths1,\n",
    "                         path_type='shortest',\n",
    "                         metadata_func=metadata_formatter,\n",
    "                         metadata_dict=None,\n",
    "                         node_metadata=node_data_dict,\n",
    "                         verbose=False,\n",
    "                         rand=True,\n",
    "                         sample_size=10)"
   ]
  },
  {
   "cell_type": "markdown",
   "metadata": {},
   "source": [
    "***\n",
    "#### lisinopril dihydrate (`CHEBI_6503`) and contact dermatitis (`MONDO_0005480`)  <a class=\"anchor\" id=\"path2\"></a>\n"
   ]
  },
  {
   "cell_type": "code",
   "execution_count": null,
   "metadata": {},
   "outputs": [],
   "source": [
    "s = obo.CHEBI_6503; t = obo.MONDO_0005480\n",
    "kg_orientation = kg; ind = 'directed'\n",
    "spl_d = nx.shortest_path_length(kg, source=s, target=t)\n",
    "print('The shortest path length is: {}'.format(str(spl_d)))"
   ]
  },
  {
   "cell_type": "code",
   "execution_count": null,
   "metadata": {},
   "outputs": [],
   "source": [
    "shortest_paths2 = list(nx.all_shortest_paths(kg_orientation, s, t))\n",
    "p_len = nx.shortest_path_length(kg_orientation, source=s, target=t)\n",
    "v = 'is' if len(shortest_paths2) == 1 else 'are'\n",
    "print('There {} {} shortest paths of length {}'.format(v, str(len(shortest_paths2)), str(p_len)))"
   ]
  },
  {
   "cell_type": "code",
   "execution_count": null,
   "metadata": {},
   "outputs": [],
   "source": [
    "formats_path_information(kg=kg_orientation,\n",
    "                         paths=shortest_paths2,\n",
    "                         path_type='shortest',\n",
    "                         metadata_func=metadata_formatter,\n",
    "                         metadata_dict=None,\n",
    "                         node_metadata=node_data_dict,\n",
    "                         verbose=False,\n",
    "                         rand=True,\n",
    "                         sample_size=10)"
   ]
  },
  {
   "cell_type": "markdown",
   "metadata": {},
   "source": [
    "\n",
    "<br>\n",
    "\n",
    "***\n",
    "***\n",
    "\n",
    "This Notebook is part of the [**PheKnowLator Ecosystem**](https://zenodo.org/communities/pheknowlator-ecosystem/edit/)\n",
    "\n",
    "```\n",
    "@misc{callahan_tj_2019_3401437,\n",
    "  author       = {Callahan, TJ},\n",
    "  title        = {PheKnowLator},\n",
    "  month        = mar,\n",
    "  year         = 2019,\n",
    "  doi          = {10.5281/zenodo.3401437},\n",
    "  url          = {https://doi.org/10.5281/zenodo.3401437}\n",
    "}\n",
    "```\n",
    "\n",
    "***"
   ]
  }
 ],
 "metadata": {
  "kernelspec": {
   "display_name": "Python 3",
   "language": "python",
   "name": "python3"
  },
  "language_info": {
   "codemirror_mode": {
    "name": "ipython",
    "version": 3
   },
   "file_extension": ".py",
   "mimetype": "text/x-python",
   "name": "python",
   "nbconvert_exporter": "python",
   "pygments_lexer": "ipython3",
   "version": "3.6.2"
  }
 },
 "nbformat": 4,
 "nbformat_minor": 1
}
